{
 "cells": [
  {
   "cell_type": "code",
   "execution_count": 1,
   "id": "1b820415",
   "metadata": {},
   "outputs": [
    {
     "name": "stdout",
     "output_type": "stream",
     "text": [
      "FERNET_KEY=H_EDsT2jjznBxNwg7iMcDDVQw9-dmrZyseh2rHq9nTM=\n"
     ]
    }
   ],
   "source": [
    "from cryptography.fernet import Fernet\n",
    "fernet_key = Fernet.generate_key()\n",
    "print(f\"FERNET_KEY={fernet_key.decode()}\")"
   ]
  },
  {
   "cell_type": "code",
   "execution_count": 2,
   "id": "395a3e00",
   "metadata": {},
   "outputs": [
    {
     "name": "stdout",
     "output_type": "stream",
     "text": [
      "FERNET_KEY 값: 'H_EDsT2jjznBxNwg7iMcDDVQw9-dmrZyseh2rHq9nTM='\n"
     ]
    }
   ],
   "source": [
    "from dotenv import load_dotenv\n",
    "load_dotenv()\n",
    "import os\n",
    "FERNET_KEY = os.getenv(\"FERNET_KEY\")\n",
    "\n",
    "print(\"FERNET_KEY 값:\", repr(FERNET_KEY))"
   ]
  }
 ],
 "metadata": {
  "kernelspec": {
   "display_name": "django_env",
   "language": "python",
   "name": "python3"
  },
  "language_info": {
   "codemirror_mode": {
    "name": "ipython",
    "version": 3
   },
   "file_extension": ".py",
   "mimetype": "text/x-python",
   "name": "python",
   "nbconvert_exporter": "python",
   "pygments_lexer": "ipython3",
   "version": "3.12.9"
  }
 },
 "nbformat": 4,
 "nbformat_minor": 5
}
