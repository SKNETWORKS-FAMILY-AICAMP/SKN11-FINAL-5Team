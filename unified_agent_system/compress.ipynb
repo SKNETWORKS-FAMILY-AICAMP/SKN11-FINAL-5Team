{
 "cells": [
  {
   "cell_type": "code",
   "execution_count": 14,
   "id": "d615e465",
   "metadata": {},
   "outputs": [],
   "source": [
    "import tarfile\n",
    "import os\n",
    "\n",
    "def list_files_in_folder(folder_path):\n",
    "    print(f\"{folder_path} 폴더 파일 목록:\")\n",
    "    for root, dirs, files in os.walk(folder_path):\n",
    "        for file in files:\n",
    "            full_path = os.path.join(root, file)\n",
    "            relative_path = os.path.relpath(full_path, start=folder_path)\n",
    "            print(f\" - {relative_path}\")\n",
    "\n",
    "def compress_folder_to_tar_gz(source_folder, output_filename):\n",
    "    with tarfile.open(output_filename, \"w:gz\") as tar:\n",
    "        for root, dirs, files in os.walk(source_folder):\n",
    "            for file in files:\n",
    "                full_path = os.path.join(root, file)\n",
    "                # tar 내 경로를 상대경로로 저장\n",
    "                arcname = os.path.relpath(full_path, start=source_folder)\n",
    "                tar.add(full_path, arcname=arcname)\n",
    "    print(f\"압축 완료: {output_filename}\")\n",
    "\n"
   ]
  },
  {
   "cell_type": "code",
   "execution_count": 13,
   "id": "da354f7d",
   "metadata": {},
   "outputs": [
    {
     "name": "stdout",
     "output_type": "stream",
     "text": [
      "vector_db 파일 목록:\n",
      " - chroma.sqlite3\n",
      " - bf56166a-0c8a-419e-973f-391797161e2f\\data_level0.bin\n",
      " - bf56166a-0c8a-419e-973f-391797161e2f\\header.bin\n",
      " - bf56166a-0c8a-419e-973f-391797161e2f\\index_metadata.pickle\n",
      " - bf56166a-0c8a-419e-973f-391797161e2f\\length.bin\n",
      " - bf56166a-0c8a-419e-973f-391797161e2f\\link_lists.bin\n"
     ]
    }
   ],
   "source": [
    "# 사용 예시\n",
    "source_folder = \"vector_db\"          # 압축할 폴더 경로\n",
    "output_filename = \"chroma.tar.gz\"    # 생성될 압축 파일명\n",
    "\n",
    "# 파일 목록 출력\n",
    "list_files_in_folder(source_folder)\n"
   ]
  },
  {
   "cell_type": "code",
   "execution_count": 8,
   "id": "35b2a66f",
   "metadata": {},
   "outputs": [
    {
     "name": "stdout",
     "output_type": "stream",
     "text": [
      "압축 완료: chroma.tar.gz\n"
     ]
    }
   ],
   "source": [
    "# 압축 실행\n",
    "compress_folder_to_tar_gz(source_folder, output_filename)"
   ]
  }
 ],
 "metadata": {
  "kernelspec": {
   "display_name": "tinkerbell",
   "language": "python",
   "name": "python3"
  },
  "language_info": {
   "codemirror_mode": {
    "name": "ipython",
    "version": 3
   },
   "file_extension": ".py",
   "mimetype": "text/x-python",
   "name": "python",
   "nbconvert_exporter": "python",
   "pygments_lexer": "ipython3",
   "version": "3.11.13"
  }
 },
 "nbformat": 4,
 "nbformat_minor": 5
}
